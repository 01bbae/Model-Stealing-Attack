{
 "cells": [
  {
   "cell_type": "code",
   "execution_count": 1,
   "metadata": {},
   "outputs": [
    {
     "name": "stderr",
     "output_type": "stream",
     "text": [
      "/Users/bjbae/miniconda3/lib/python3.10/site-packages/tqdm/auto.py:21: TqdmWarning: IProgress not found. Please update jupyter and ipywidgets. See https://ipywidgets.readthedocs.io/en/stable/user_install.html\n",
      "  from .autonotebook import tqdm as notebook_tqdm\n"
     ]
    }
   ],
   "source": [
    "import torch\n",
    "from torchvision.models import resnet50, ResNet50_Weights\n",
    "from torchvision.datasets import MNIST, CIFAR10 \n",
    "import torchvision.transforms as transforms\n",
    "from torch.utils.data import DataLoader, ConcatDataset\n",
    "import detectors\n",
    "import timm\n",
    "import matplotlib.pyplot as plt\n",
    "from tqdm import tqdm"
   ]
  },
  {
   "cell_type": "code",
   "execution_count": 2,
   "metadata": {},
   "outputs": [
    {
     "data": {
      "text/plain": [
       "<torch._C.Generator at 0x110457cf0>"
      ]
     },
     "execution_count": 2,
     "metadata": {},
     "output_type": "execute_result"
    }
   ],
   "source": [
    "torch.manual_seed(0)"
   ]
  },
  {
   "cell_type": "code",
   "execution_count": 3,
   "metadata": {},
   "outputs": [],
   "source": [
    "queries = [10000, 20000, 30000, 40000, 50000]"
   ]
  },
  {
   "cell_type": "markdown",
   "metadata": {},
   "source": [
    "### Import Victim Model"
   ]
  },
  {
   "cell_type": "code",
   "execution_count": 4,
   "metadata": {},
   "outputs": [],
   "source": [
    "pretrained_model = timm.create_model(\"resnet18_cifar10\", pretrained=True)\n",
    "\n",
    "knockoff_model_base = resnet50(weights=None)\n",
    "knockoff_model = knockoff_model_base"
   ]
  },
  {
   "cell_type": "markdown",
   "metadata": {},
   "source": [
    "### Import datasets and apply transforms"
   ]
  },
  {
   "cell_type": "code",
   "execution_count": 5,
   "metadata": {},
   "outputs": [
    {
     "name": "stdout",
     "output_type": "stream",
     "text": [
      "Files already downloaded and verified\n",
      "Files already downloaded and verified\n"
     ]
    }
   ],
   "source": [
    "cifar_transform = transforms.Compose(\n",
    "    [transforms.ToTensor(),\n",
    "    transforms.Normalize((0.5, 0.5, 0.5), (0.5, 0.5, 0.5))])\n",
    "\n",
    "mnist_transform = transforms.Compose(\n",
    "    # Upscale MNIST images to match CIFAR images\n",
    "    # Duplicate MNIST image channels to match CIFAR images\n",
    "    [transforms.Resize(size=[32,32]),\n",
    "    transforms.Grayscale(num_output_channels=3),\n",
    "    transforms.ToTensor(),\n",
    "    transforms.Normalize((0.5, 0.5, 0.5), (0.5, 0.5, 0.5))])\n",
    "\n",
    "mnist_train = MNIST('./data', train=True, transform=mnist_transform, download=True)\n",
    "mnist_test = MNIST('./data', train=False, transform=mnist_transform, download=True)\n",
    "cifar_train= CIFAR10('./data', train=True, transform=cifar_transform, download=True)\n",
    "cifar_test= CIFAR10('./data', train=False, transform=cifar_transform, download=True)\n"
   ]
  },
  {
   "cell_type": "markdown",
   "metadata": {},
   "source": [
    "### Combine MNIST and CIFAR datasets for training and testing"
   ]
  },
  {
   "cell_type": "code",
   "execution_count": 6,
   "metadata": {},
   "outputs": [],
   "source": [
    "mnist_cifar_train = ConcatDataset([mnist_train, cifar_train])\n",
    "mnist_cifar_test = ConcatDataset([mnist_test, cifar_test])"
   ]
  },
  {
   "cell_type": "code",
   "execution_count": 7,
   "metadata": {},
   "outputs": [],
   "source": [
    "mnist_cifar_train_loader = DataLoader(mnist_cifar_train, batch_size=4, shuffle=True)\n",
    "mnist_cifar_test_loader = DataLoader(mnist_cifar_test, batch_size=4, shuffle=True)\n",
    "cifar_test_loader = DataLoader(cifar_test, batch_size=4, shuffle=True)\n",
    "mnist_test_loader = DataLoader(mnist_test, batch_size=4, shuffle=True)"
   ]
  },
  {
   "cell_type": "code",
   "execution_count": 8,
   "metadata": {},
   "outputs": [],
   "source": [
    "loss_fn = torch.nn.CrossEntropyLoss()\n",
    "optimizer = torch.optim.Adam(knockoff_model.parameters())"
   ]
  },
  {
   "cell_type": "code",
   "execution_count": 9,
   "metadata": {},
   "outputs": [],
   "source": [
    "def training_knockoff(pretrained_model, knockoff_model, num_queries, data_loader):\n",
    "    knockoff_model.train()\n",
    "    for _ in tqdm(range(num_queries)):\n",
    "        # Every data instance is an input + label pair\n",
    "        inputs, _ = next(iter(data_loader))\n",
    "\n",
    "        # Zero your gradients for every batch!\n",
    "        optimizer.zero_grad()\n",
    "\n",
    "        # Get label by querying from victim model\n",
    "        softmax_outputs = pretrained_model(inputs)\n",
    "        labels = torch.argmax(softmax_outputs, dim=1)\n",
    "\n",
    "        # Make predictions for this batch\n",
    "        outputs = knockoff_model(inputs)\n",
    "\n",
    "        # Compute the loss and its gradients\n",
    "        loss = loss_fn(outputs, labels)\n",
    "        loss.backward()\n",
    "\n",
    "        # Adjust learning weights\n",
    "        optimizer.step()\n",
    "    return knockoff_model\n"
   ]
  },
  {
   "cell_type": "code",
   "execution_count": 10,
   "metadata": {},
   "outputs": [],
   "source": [
    "def testing_knockoff(pretrained_model, knockoff_model, data_loader):\n",
    "    correct = 0\n",
    "    count = 0\n",
    "    knockoff_model.eval()\n",
    "    for data in tqdm(data_loader):\n",
    "        inputs, _ = data\n",
    "\n",
    "        # Get output of victim model\n",
    "        pretrained_softmax = pretrained_model(inputs)\n",
    "        pretrained_output = torch.argmax(pretrained_softmax, dim=1)\n",
    "\n",
    "        # Get output of knockoff model\n",
    "        knockoff_softmax = knockoff_model(inputs)\n",
    "        knockoff_output = torch.argmax(knockoff_softmax, dim=1)\n",
    "\n",
    "        # Check if the two outputs match for each item in a batch\n",
    "        for i in range(len(pretrained_output)):\n",
    "            if pretrained_output[i] == knockoff_output[i]:\n",
    "                correct += 1\n",
    "            count += 1\n",
    "    return correct/count"
   ]
  },
  {
   "cell_type": "markdown",
   "metadata": {},
   "source": [
    "### Training Cycle"
   ]
  },
  {
   "cell_type": "code",
   "execution_count": 16,
   "metadata": {},
   "outputs": [
    {
     "name": "stdout",
     "output_type": "stream",
     "text": [
      "Queries: 10000\n"
     ]
    },
    {
     "name": "stderr",
     "output_type": "stream",
     "text": [
      "100%|██████████| 10000/10000 [28:18<00:00,  5.89it/s] \n"
     ]
    },
    {
     "name": "stdout",
     "output_type": "stream",
     "text": [
      "Queries: 20000\n"
     ]
    },
    {
     "name": "stderr",
     "output_type": "stream",
     "text": [
      "100%|██████████| 20000/20000 [47:06<00:00,  7.08it/s] \n"
     ]
    },
    {
     "name": "stdout",
     "output_type": "stream",
     "text": [
      "Queries: 30000\n"
     ]
    },
    {
     "name": "stderr",
     "output_type": "stream",
     "text": [
      "100%|██████████| 30000/30000 [1:05:16<00:00,  7.66it/s]\n"
     ]
    },
    {
     "name": "stdout",
     "output_type": "stream",
     "text": [
      "Queries: 40000\n"
     ]
    },
    {
     "name": "stderr",
     "output_type": "stream",
     "text": [
      "100%|██████████| 40000/40000 [4:01:07<00:00,  2.76it/s]       \n"
     ]
    },
    {
     "name": "stdout",
     "output_type": "stream",
     "text": [
      "Queries: 50000\n"
     ]
    },
    {
     "name": "stderr",
     "output_type": "stream",
     "text": [
      "100%|██████████| 50000/50000 [1:49:55<00:00,  7.58it/s]  \n"
     ]
    }
   ],
   "source": [
    "for num_query in queries:\n",
    "    print(\"Queries:\", num_query)\n",
    "    knockoff_model = training_knockoff(pretrained_model, knockoff_model, num_query, mnist_cifar_train_loader)\n",
    "    torch.save(knockoff_model.state_dict(), \"./models/\" + \"model_\" + str(num_query) + \"_queries.pt\")\n",
    "    # Reset knockoff model to random weights\n",
    "    knockoff_model = knockoff_model_base\n"
   ]
  },
  {
   "cell_type": "markdown",
   "metadata": {},
   "source": [
    "### Testing Cycle"
   ]
  },
  {
   "cell_type": "code",
   "execution_count": 21,
   "metadata": {},
   "outputs": [
    {
     "name": "stderr",
     "output_type": "stream",
     "text": [
      "100%|██████████| 2500/2500 [02:07<00:00, 19.57it/s]\n",
      "100%|██████████| 5000/5000 [03:53<00:00, 21.37it/s]\n",
      "100%|██████████| 2500/2500 [02:03<00:00, 20.18it/s]\n"
     ]
    },
    {
     "name": "stdout",
     "output_type": "stream",
     "text": [
      "cifar_acc: 0.137\n",
      "mnist_cifar_acc: 0.1984\n",
      "mnist_acc: 0.189\n"
     ]
    },
    {
     "name": "stderr",
     "output_type": "stream",
     "text": [
      "100%|██████████| 2500/2500 [02:00<00:00, 20.80it/s]\n",
      "100%|██████████| 5000/5000 [04:14<00:00, 19.65it/s]\n",
      "100%|██████████| 2500/2500 [02:23<00:00, 17.37it/s]\n"
     ]
    },
    {
     "name": "stdout",
     "output_type": "stream",
     "text": [
      "cifar_acc: 0.1154\n",
      "mnist_cifar_acc: 0.18735\n",
      "mnist_acc: 0.1795\n"
     ]
    },
    {
     "name": "stderr",
     "output_type": "stream",
     "text": [
      "100%|██████████| 2500/2500 [02:07<00:00, 19.68it/s]\n",
      "100%|██████████| 5000/5000 [04:05<00:00, 20.34it/s]\n",
      "100%|██████████| 2500/2500 [01:48<00:00, 22.96it/s]\n"
     ]
    },
    {
     "name": "stdout",
     "output_type": "stream",
     "text": [
      "cifar_acc: 0.151\n",
      "mnist_cifar_acc: 0.18895\n",
      "mnist_acc: 0.1488\n"
     ]
    },
    {
     "name": "stderr",
     "output_type": "stream",
     "text": [
      "100%|██████████| 2500/2500 [02:20<00:00, 17.82it/s]\n",
      "100%|██████████| 5000/5000 [04:23<00:00, 18.97it/s]\n",
      "100%|██████████| 2500/2500 [02:17<00:00, 18.18it/s]\n"
     ]
    },
    {
     "name": "stdout",
     "output_type": "stream",
     "text": [
      "cifar_acc: 0.1797\n",
      "mnist_cifar_acc: 0.23545\n",
      "mnist_acc: 0.2127\n"
     ]
    },
    {
     "name": "stderr",
     "output_type": "stream",
     "text": [
      "100%|██████████| 2500/2500 [02:19<00:00, 17.98it/s]\n",
      "100%|██████████| 5000/5000 [05:11<00:00, 16.07it/s]\n",
      "100%|██████████| 2500/2500 [02:31<00:00, 16.49it/s]\n"
     ]
    },
    {
     "name": "stdout",
     "output_type": "stream",
     "text": [
      "cifar_acc: 0.161\n",
      "mnist_cifar_acc: 0.21055\n",
      "mnist_acc: 0.2185\n"
     ]
    }
   ],
   "source": [
    "# initalize aggregate arrays for accuracies\n",
    "cifar_acc_aggr = []\n",
    "mnist_cifar_acc_aggr = []\n",
    "mnist_acc_aggr = []\n",
    "\n",
    "for num_query in queries:\n",
    "    knockoff_model = knockoff_model_base\n",
    "    knockoff_model.load_state_dict(torch.load(\"./models/\" + \"model_\" + str(num_query) + \"_queries.pt\"))\n",
    "    cifar_acc = testing_knockoff(pretrained_model, knockoff_model, cifar_test_loader)\n",
    "    mnist_cifar_acc = testing_knockoff(pretrained_model, knockoff_model, mnist_cifar_test_loader)\n",
    "    mnist_acc = testing_knockoff(pretrained_model, knockoff_model, mnist_test_loader)\n",
    "    print(\"cifar_acc:\", cifar_acc)\n",
    "    print(\"mnist_cifar_acc:\", mnist_cifar_acc)\n",
    "    print(\"mnist_acc:\", mnist_acc)\n",
    "    cifar_acc_aggr.append(cifar_acc)\n",
    "    mnist_cifar_acc_aggr.append(mnist_cifar_acc)\n",
    "    mnist_acc_aggr.append(mnist_acc)"
   ]
  },
  {
   "cell_type": "code",
   "execution_count": 32,
   "metadata": {},
   "outputs": [
    {
     "data": {
      "image/png": "[encoded data removed]",
      "text/plain": [
       "<Figure size 640x480 with 1 Axes>"
      ]
     },
     "metadata": {},
     "output_type": "display_data"
    }
   ],
   "source": [
    "plt.plot(queries, cifar_acc_aggr, label=\"CIFAR\")\n",
    "plt.plot(queries, mnist_cifar_acc_aggr, label=\"CIFAR and MNIST\")\n",
    "plt.plot(queries, mnist_acc_aggr, label=\"MNIST\")\n",
    "plt.ylabel(\"Test accuracy\")\n",
    "plt.xlabel(\"Number of Queries\")\n",
    "plt.title(\"Number of Queries vs Test Accuracy of Different Test Datasets\")\n",
    "plt.legend()\n",
    "plt.savefig(\"acc.png\")"
   ]
  }
 ],
 "metadata": {
  "kernelspec": {
   "display_name": "base",
   "language": "python",
   "name": "python3"
  },
  "language_info": {
   "codemirror_mode": {
    "name": "ipython",
    "version": 3
   },
   "file_extension": ".py",
   "mimetype": "text/x-python",
   "name": "python",
   "nbconvert_exporter": "python",
   "pygments_lexer": "ipython3",
   "version": "3.10.13"
  }
 },
 "nbformat": 4,
 "nbformat_minor": 2
}
